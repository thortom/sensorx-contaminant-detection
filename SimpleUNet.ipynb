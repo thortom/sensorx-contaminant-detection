{
 "cells": [
  {
   "cell_type": "code",
   "execution_count": null,
   "metadata": {},
   "outputs": [],
   "source": [
    "## Lesson 3 CamVid Tiramisu\n",
    "%reload_ext autoreload\n",
    "%autoreload 1\n",
    "%matplotlib inline\n",
    "\n",
    "from fastai import *\n",
    "from fastai.vision import *\n",
    "from fastai.callbacks.hooks import *\n",
    "#import matplotlib.pyplot as plt\n",
    "\n",
    "path = Path('/mnt/c/School/Scripts/TestData/')"
   ]
  },
  {
   "cell_type": "code",
   "execution_count": null,
   "metadata": {},
   "outputs": [],
   "source": [
    "from fastai.utils.show_install import *\n",
    "show_install()"
   ]
  },
  {
   "cell_type": "code",
   "execution_count": null,
   "metadata": {},
   "outputs": [],
   "source": [
    "path.ls()"
   ]
  },
  {
   "cell_type": "code",
   "execution_count": null,
   "metadata": {},
   "outputs": [],
   "source": [
    "path_lbl = path/'masks'\n",
    "path_img = path/'images'"
   ]
  },
  {
   "cell_type": "code",
   "execution_count": null,
   "metadata": {},
   "outputs": [],
   "source": [
    "fnames = get_image_files(path_img)\n",
    "fnames[:3]"
   ]
  },
  {
   "cell_type": "code",
   "execution_count": null,
   "metadata": {},
   "outputs": [],
   "source": [
    "lbl_names = get_image_files(path_lbl)\n",
    "lbl_names[:3]"
   ]
  },
  {
   "cell_type": "code",
   "execution_count": null,
   "metadata": {},
   "outputs": [],
   "source": [
    "## Data\n",
    "\n",
    "img_f = fnames[10]\n",
    "img = open_image(img_f)\n",
    "img.show(figsize=(5,5))\n",
    "#plt.show()"
   ]
  },
  {
   "cell_type": "code",
   "execution_count": null,
   "metadata": {},
   "outputs": [],
   "source": [
    "img_f.parent.parent"
   ]
  },
  {
   "cell_type": "code",
   "execution_count": null,
   "metadata": {},
   "outputs": [],
   "source": [
    "# TODO Continue from here...\n",
    "def get_y_fn(x):\n",
    "    print(str(x.parent))\n",
    "    return Path(str(x.parent.parent)+'/masks') / x.name\n",
    "\n",
    "codes = array(['Belt', 'Meat', 'Bone', 'Metal'])\n",
    "\n",
    "mask = open_mask(get_y_fn(img_f))\n",
    "mask.show(figsize=(5,5), alpha=1)\n",
    "#plt.show()\n",
    "\n",
    "src_size = np.array(mask.shape[1:])\n",
    "print(src_size, mask.data)"
   ]
  },
  {
   "cell_type": "code",
   "execution_count": null,
   "metadata": {},
   "outputs": [],
   "source": [
    "## Datasets\n",
    "bs,size = 4,src_size//2\n",
    "\n",
    "src = (SegmentationItemList.from_folder(path_img)\n",
    "       .split_by_fname_file('/mnt/c/School/Scripts/TestData/valid.txt')\n",
    "       .label_from_func(get_y_fn, classes=codes))\n",
    "data = (src.transform(get_transforms(), size=size, tfm_y=True)\n",
    "        .databunch(bs=bs)\n",
    "        .normalize(imagenet_stats))"
   ]
  },
  {
   "cell_type": "code",
   "execution_count": null,
   "metadata": {},
   "outputs": [],
   "source": [
    "data.show_batch(1, figsize=(10,7))"
   ]
  },
  {
   "cell_type": "code",
   "execution_count": null,
   "metadata": {},
   "outputs": [],
   "source": [
    "name2id = {v:k for k,v in enumerate(codes)}\n",
    "\n",
    "def error_measure(input, target):\n",
    "    target = target.squeeze(1)\n",
    "    mask_isVoid = target != name2id['Belt']\n",
    "    mask_isBone = target == name2id['Bone']\n",
    "    mask_ismetal = target == name2id['Metal']\n",
    "    \n",
    "    error = (input.argmax(dim=1)[mask_isVoid]!=target[mask_isVoid]).float().mean()\n",
    "    boneError = input.argmax(dim=1)[mask_isBone]!=target[mask_isBone]\n",
    "    metalError = input.argmax(dim=1)[mask_ismetal]!=target[mask_ismetal]\n",
    "    if len(boneError) != 0:\n",
    "        error += 10*boneError.float().mean()\n",
    "    if len(metalError) != 0:\n",
    "        error += 100*metalError.float().mean()\n",
    "    \n",
    "    return error"
   ]
  },
  {
   "cell_type": "code",
   "execution_count": null,
   "metadata": {},
   "outputs": [],
   "source": [
    "       \n",
    "weights = torch.FloatTensor([0., 1., 10., 100.]) # ['Belt', 'Meat', 'Bone', 'Metal'])\n",
    "def forward(y_hat, y)->Rank0Tensor:  # This custom loss did not work with the backpropagation\n",
    "    y_hat = y_hat.argmax(dim=1)\n",
    "    y = y.squeeze(1)\n",
    "    \n",
    "    costs = weights[y] * torch.log(y_hat.float() + 1e-16) # epsilon=1e-45\n",
    "    cost = costs.sum().double()\n",
    "    return cost\n",
    "\n",
    "weight = torch.FloatTensor([0., 1., 10., 100.])\n",
    "def customLossFunction(input, target): # Works\n",
    "    target = target.squeeze(1)\n",
    "    return F.nll_loss(torch.log_softmax(input, 1), target, weight, reduction='mean')\n",
    "    \n",
    "class CustomLoss(): # Works\n",
    "    \"Weighted Cross Entropy Loss.\"\n",
    "    def __init__(self):\n",
    "        self.weight = torch.FloatTensor([0., 1., 10., 100.])\n",
    "        self.func = nn.CrossEntropyLoss(self.weight)\n",
    "        functools.update_wrapper(self, self.func)\n",
    "\n",
    "    def __repr__(self): return f\"FlattenedLoss of {self.func}\"\n",
    "    @property\n",
    "    def reduction(self): return self.func.reduction\n",
    "    @reduction.setter\n",
    "    def reduction(self, v): self.func.reduction = v\n",
    "\n",
    "    def __call__(self, input:Tensor, target:Tensor, **kwargs)->Rank0Tensor:\n",
    "\n",
    "        target = target.squeeze(1)        \n",
    "        return self.func.__call__(input, target, **kwargs)"
   ]
  },
  {
   "cell_type": "code",
   "execution_count": null,
   "metadata": {},
   "outputs": [],
   "source": [
    "wd=1e-2"
   ]
  },
  {
   "cell_type": "code",
   "execution_count": null,
   "metadata": {},
   "outputs": [],
   "source": [
    "# The image is reduced by half (data.batch_stats), and has 3 chanels by default (the other two are set to 1)\n",
    "learn = unet_learner(data, models.resnet34, metrics=error_measure, wd=wd, loss_func=customLossFunction) #CustomLoss())\n",
    "\n",
    "# x, y = data.one_batch(DatasetType.Train, True, True)\n",
    "# data.one_batch"
   ]
  },
  {
   "cell_type": "code",
   "execution_count": null,
   "metadata": {},
   "outputs": [],
   "source": [
    "# TODO: Set the new loss_func here\n",
    "learn.loss_func, data.loss_func"
   ]
  },
  {
   "cell_type": "code",
   "execution_count": null,
   "metadata": {},
   "outputs": [],
   "source": [
    "lr_find(learn)"
   ]
  },
  {
   "cell_type": "code",
   "execution_count": null,
   "metadata": {},
   "outputs": [],
   "source": [
    "lr=1e-4"
   ]
  },
  {
   "cell_type": "code",
   "execution_count": null,
   "metadata": {},
   "outputs": [],
   "source": [
    "learn.recorder.plot()"
   ]
  },
  {
   "cell_type": "code",
   "execution_count": null,
   "metadata": {},
   "outputs": [],
   "source": [
    "learn.fit_one_cycle(10, slice(lr), pct_start=0.8)"
   ]
  },
  {
   "cell_type": "code",
   "execution_count": null,
   "metadata": {},
   "outputs": [],
   "source": [
    "learn.save('stage-1-big')"
   ]
  },
  {
   "cell_type": "code",
   "execution_count": null,
   "metadata": {},
   "outputs": [],
   "source": [
    "learn.load('stage-1-big');"
   ]
  },
  {
   "cell_type": "code",
   "execution_count": null,
   "metadata": {},
   "outputs": [],
   "source": [
    "learn.unfreeze()"
   ]
  },
  {
   "cell_type": "code",
   "execution_count": null,
   "metadata": {},
   "outputs": [],
   "source": [
    "lrs = slice(1e-6,lr/10)"
   ]
  },
  {
   "cell_type": "code",
   "execution_count": null,
   "metadata": {},
   "outputs": [],
   "source": [
    "learn.fit_one_cycle(10, lrs)"
   ]
  },
  {
   "cell_type": "code",
   "execution_count": null,
   "metadata": {},
   "outputs": [],
   "source": [
    "learn.save('stage-2-big')"
   ]
  },
  {
   "cell_type": "code",
   "execution_count": null,
   "metadata": {},
   "outputs": [],
   "source": [
    "learn.load('stage-2-big');"
   ]
  },
  {
   "cell_type": "code",
   "execution_count": null,
   "metadata": {},
   "outputs": [],
   "source": [
    "#learn.show_results(rows=8, figsize=(20,20)) # This shows incorrect predictions?"
   ]
  },
  {
   "cell_type": "code",
   "execution_count": null,
   "metadata": {},
   "outputs": [],
   "source": [
    "preds,y = learn.get_preds()"
   ]
  },
  {
   "cell_type": "code",
   "execution_count": null,
   "metadata": {},
   "outputs": [],
   "source": [
    "def getContanimentInfo(prediction):\n",
    "    items = prediction.unique()\n",
    "    \n",
    "    name2id = {v:k for k,v in enumerate(codes)}\n",
    "    if name2id['Bone'] in items and name2id['Metal'] in items:\n",
    "        return \"Bone and Metal\"\n",
    "    if name2id['Metal'] in items:\n",
    "        return \"Metal\"\n",
    "    if name2id['Bone'] in items:\n",
    "        return \"Bone\"\n",
    "    if name2id['Meat'] in items:\n",
    "        return \"just Meat\"\n",
    "    else:\n",
    "        return \"Nothing\""
   ]
  },
  {
   "cell_type": "code",
   "execution_count": null,
   "metadata": {},
   "outputs": [],
   "source": [
    "y = torch.squeeze(y)\n",
    "print(\"########################\")\n",
    "print(\"Ground truth/Predictions\")\n",
    "print(\"########################\")\n",
    "for i in range(8):\n",
    "    prediction = preds.argmax(dim=1)[i]\n",
    "    print(\"There is {}. Found {}.\".format(getContanimentInfo(y[i]), getContanimentInfo(prediction)))\n",
    "    fig=plt.figure(figsize=(10,20))\n",
    "    fig.add_subplot(1, 2, 1)\n",
    "    plt.imshow(y[i])\n",
    "    fig.add_subplot(1, 2, 2)\n",
    "    plt.imshow(prediction)\n",
    "    plt.show()\n",
    "    "
   ]
  },
  {
   "cell_type": "code",
   "execution_count": null,
   "metadata": {},
   "outputs": [],
   "source": [
    "# TODO: Test this stuff\n",
    "preds,y = learn.get_preds()\n",
    "interp = ClassificationInterpretation(data, preds, y, loss_class=nn.CrossEntropyLoss)\n",
    "interp.plot_top_losses(9, figsize=(10,10))\n",
    "interp.plot_confusion_matrix()"
   ]
  }
 ],
 "metadata": {
  "kernelspec": {
   "display_name": "Python 3",
   "language": "python",
   "name": "python3"
  },
  "language_info": {
   "codemirror_mode": {
    "name": "ipython",
    "version": 3
   },
   "file_extension": ".py",
   "mimetype": "text/x-python",
   "name": "python",
   "nbconvert_exporter": "python",
   "pygments_lexer": "ipython3",
   "version": "3.7.1"
  }
 },
 "nbformat": 4,
 "nbformat_minor": 2
}
